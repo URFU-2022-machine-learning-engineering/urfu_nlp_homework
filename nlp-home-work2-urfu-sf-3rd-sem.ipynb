{
 "cells": [
  {
   "cell_type": "code",
   "execution_count": 1,
   "metadata": {},
   "outputs": [],
   "source": [
    "import pandas as pd\n",
    "import numpy as np\n",
    "import matplotlib.pyplot as plt\n",
    "import seaborn as sns"
   ]
  },
  {
   "cell_type": "markdown",
   "metadata": {},
   "source": [
    "# The Task\n",
    "Train several models of recurrent neural networks, for example LSTM, GRU, Bidirectional-LSTM.\n",
    "Calculate the value of the metric that you proposed in Part 1 and compare the results for different RN, heuristics, and classical ML."
   ]
  },
  {
   "cell_type": "markdown",
   "metadata": {},
   "source": [
    "### Read the preprocessed data"
   ]
  },
  {
   "cell_type": "code",
   "execution_count": 2,
   "metadata": {},
   "outputs": [],
   "source": [
    "data = pd.read_parquet('data/Tweets.parquet', engine='pyarrow')"
   ]
  },
  {
   "cell_type": "markdown",
   "metadata": {},
   "source": [
    "### Check the loaded data"
   ]
  },
  {
   "cell_type": "code",
   "execution_count": 3,
   "metadata": {},
   "outputs": [
    {
     "name": "stdout",
     "output_type": "stream",
     "text": [
      "<class 'pandas.core.frame.DataFrame'>\n",
      "Index: 41128 entries, 1 to 41156\n",
      "Data columns (total 4 columns):\n",
      " #   Column           Non-Null Count  Dtype \n",
      "---  ------           --------------  ----- \n",
      " 0   Text             41128 non-null  object\n",
      " 1   Sentiment        41128 non-null  object\n",
      " 2   Text_Length      41128 non-null  int64 \n",
      " 3   Normalized_Text  41128 non-null  object\n",
      "dtypes: int64(1), object(3)\n",
      "memory usage: 1.6+ MB\n"
     ]
    }
   ],
   "source": [
    "data.info()"
   ]
  },
  {
   "cell_type": "code",
   "execution_count": 4,
   "metadata": {},
   "outputs": [
    {
     "data": {
      "text/html": [
       "<div>\n",
       "<style scoped>\n",
       "    .dataframe tbody tr th:only-of-type {\n",
       "        vertical-align: middle;\n",
       "    }\n",
       "\n",
       "    .dataframe tbody tr th {\n",
       "        vertical-align: top;\n",
       "    }\n",
       "\n",
       "    .dataframe thead th {\n",
       "        text-align: right;\n",
       "    }\n",
       "</style>\n",
       "<table border=\"1\" class=\"dataframe\">\n",
       "  <thead>\n",
       "    <tr style=\"text-align: right;\">\n",
       "      <th></th>\n",
       "      <th>Text</th>\n",
       "      <th>Sentiment</th>\n",
       "      <th>Text_Length</th>\n",
       "      <th>Normalized_Text</th>\n",
       "    </tr>\n",
       "  </thead>\n",
       "  <tbody>\n",
       "    <tr>\n",
       "      <th>1373</th>\n",
       "      <td>#NY wilding rn ?? #coronavirus #nofood https:/...</td>\n",
       "      <td>Neutral</td>\n",
       "      <td>62</td>\n",
       "      <td>ny wild rn coronaviru nofood</td>\n",
       "    </tr>\n",
       "    <tr>\n",
       "      <th>3933</th>\n",
       "      <td>staying home and shopping online?\\r\\r\\nFor a l...</td>\n",
       "      <td>Negative</td>\n",
       "      <td>303</td>\n",
       "      <td>stay home shop onlin limit time get 15 phone a...</td>\n",
       "    </tr>\n",
       "    <tr>\n",
       "      <th>11457</th>\n",
       "      <td>Be vigilant on the internet and with emails, p...</td>\n",
       "      <td>Positive</td>\n",
       "      <td>263</td>\n",
       "      <td>vigil internet email practic selfprotect measu...</td>\n",
       "    </tr>\n",
       "    <tr>\n",
       "      <th>2554</th>\n",
       "      <td>Coronavirus: Food banks forced to close amid C...</td>\n",
       "      <td>Extremely Negative</td>\n",
       "      <td>270</td>\n",
       "      <td>coronaviru food bank forc close amid covid19 o...</td>\n",
       "    </tr>\n",
       "    <tr>\n",
       "      <th>19735</th>\n",
       "      <td>Welp... thatÂs a wrap!! Good day folks!! #cor...</td>\n",
       "      <td>Positive</td>\n",
       "      <td>208</td>\n",
       "      <td>welp thatâ wrap good day folk corona coronavi...</td>\n",
       "    </tr>\n",
       "    <tr>\n",
       "      <th>32309</th>\n",
       "      <td>Over the past year we ve called for an end to ...</td>\n",
       "      <td>Extremely Negative</td>\n",
       "      <td>232</td>\n",
       "      <td>past year call end irrespons way us handl plas...</td>\n",
       "    </tr>\n",
       "    <tr>\n",
       "      <th>4625</th>\n",
       "      <td>Avoid any consumer discretionary stocks.\\r\\r\\n...</td>\n",
       "      <td>Extremely Negative</td>\n",
       "      <td>176</td>\n",
       "      <td>avoid consum discretionari stock airlin go ban...</td>\n",
       "    </tr>\n",
       "    <tr>\n",
       "      <th>15098</th>\n",
       "      <td>@Tesco Musselburgh, East Lothian. Why do you f...</td>\n",
       "      <td>Negative</td>\n",
       "      <td>192</td>\n",
       "      <td>musselburgh east lothian feel need increas pri...</td>\n",
       "    </tr>\n",
       "    <tr>\n",
       "      <th>18885</th>\n",
       "      <td>I ve gotten an email from every retail store a...</td>\n",
       "      <td>Neutral</td>\n",
       "      <td>124</td>\n",
       "      <td>gotten email everi retail store app restaur co...</td>\n",
       "    </tr>\n",
       "    <tr>\n",
       "      <th>38242</th>\n",
       "      <td>Novel #consumer protection #lawsuit filed agai...</td>\n",
       "      <td>Positive</td>\n",
       "      <td>257</td>\n",
       "      <td>novel consum protect lawsuit file fox news was...</td>\n",
       "    </tr>\n",
       "  </tbody>\n",
       "</table>\n",
       "</div>"
      ],
      "text/plain": [
       "                                                    Text           Sentiment  \\\n",
       "1373   #NY wilding rn ?? #coronavirus #nofood https:/...             Neutral   \n",
       "3933   staying home and shopping online?\\r\\r\\nFor a l...            Negative   \n",
       "11457  Be vigilant on the internet and with emails, p...            Positive   \n",
       "2554   Coronavirus: Food banks forced to close amid C...  Extremely Negative   \n",
       "19735  Welp... thatÂs a wrap!! Good day folks!! #cor...            Positive   \n",
       "32309  Over the past year we ve called for an end to ...  Extremely Negative   \n",
       "4625   Avoid any consumer discretionary stocks.\\r\\r\\n...  Extremely Negative   \n",
       "15098  @Tesco Musselburgh, East Lothian. Why do you f...            Negative   \n",
       "18885  I ve gotten an email from every retail store a...             Neutral   \n",
       "38242  Novel #consumer protection #lawsuit filed agai...            Positive   \n",
       "\n",
       "       Text_Length                                    Normalized_Text  \n",
       "1373            62                       ny wild rn coronaviru nofood  \n",
       "3933           303  stay home shop onlin limit time get 15 phone a...  \n",
       "11457          263  vigil internet email practic selfprotect measu...  \n",
       "2554           270  coronaviru food bank forc close amid covid19 o...  \n",
       "19735          208  welp thatâ wrap good day folk corona coronavi...  \n",
       "32309          232  past year call end irrespons way us handl plas...  \n",
       "4625           176  avoid consum discretionari stock airlin go ban...  \n",
       "15098          192  musselburgh east lothian feel need increas pri...  \n",
       "18885          124  gotten email everi retail store app restaur co...  \n",
       "38242          257  novel consum protect lawsuit file fox news was...  "
      ]
     },
     "execution_count": 4,
     "metadata": {},
     "output_type": "execute_result"
    }
   ],
   "source": [
    "data.sample(10)"
   ]
  },
  {
   "cell_type": "markdown",
   "metadata": {},
   "source": [
    "Everethig looks fine, so we can start to train our models."
   ]
  },
  {
   "cell_type": "markdown",
   "metadata": {},
   "source": [
    "# LSTM\n",
    "Let's start with  LSTM with pytorch."
   ]
  },
  {
   "cell_type": "code",
   "execution_count": 5,
   "metadata": {},
   "outputs": [],
   "source": [
    "import torch\n",
    "import torch.nn as nn\n",
    "import torch.optim as optim\n",
    "from torchtext.data import get_tokenizer\n",
    "import pandas as pd\n",
    "from sklearn.model_selection import train_test_split\n",
    "from sklearn.feature_extraction.text import CountVectorizer\n",
    "from sklearn.metrics import roc_auc_score, f1_score\n",
    "import matplotlib.pyplot as plt\n",
    "from sklearn.preprocessing import LabelEncoder\n",
    "import torch.nn.functional as F\n",
    "from nltk.tokenize import word_tokenize\n",
    "from nltk.corpus import stopwords"
   ]
  },
  {
   "cell_type": "code",
   "execution_count": 6,
   "metadata": {},
   "outputs": [
    {
     "name": "stderr",
     "output_type": "stream",
     "text": [
      "/home/dzailz/urfu/NLP/.venv/lib/python3.11/site-packages/torchtext/data/utils.py:105: UserWarning: Spacy model \"en\" could not be loaded, trying \"en_core_web_sm\" instead\n",
      "  warnings.warn(\n"
     ]
    }
   ],
   "source": [
    "tokenizer = get_tokenizer(\"spacy\")"
   ]
  },
  {
   "cell_type": "code",
   "execution_count": 7,
   "metadata": {},
   "outputs": [],
   "source": [
    "# Tokenization and text preprocessing\n",
    "stop_words = set(stopwords.words('english'))\n",
    "\n",
    "def preprocess_text(text):\n",
    "    # Tokenize the text\n",
    "    tokens = word_tokenize(text)\n",
    "    # Remove stopwords\n",
    "    tokens = [word.lower() for word in tokens if word.isalpha() and word.lower() not in stop_words]\n",
    "    return ' '.join(tokens)"
   ]
  },
  {
   "cell_type": "code",
   "execution_count": 8,
   "metadata": {},
   "outputs": [],
   "source": [
    "\n",
    "# Apply preprocessing to the 'Text' column\n",
    "data['Processed_Text'] = data['Normalized_Text'].apply(preprocess_text)"
   ]
  },
  {
   "cell_type": "code",
   "execution_count": 9,
   "metadata": {},
   "outputs": [],
   "source": [
    "# Encode labels using LabelEncoder\n",
    "label_encoder = LabelEncoder()\n",
    "data['Sentiment_encoded'] = label_encoder.fit_transform(data['Sentiment'])"
   ]
  },
  {
   "cell_type": "code",
   "execution_count": 10,
   "metadata": {},
   "outputs": [],
   "source": [
    "# Split the data into train, test, and validation sets\n",
    "train_df, test_df = train_test_split(data, test_size=0.2, random_state=42)\n",
    "train_df, valid_df = train_test_split(train_df, test_size=0.2, random_state=42)\n"
   ]
  },
  {
   "cell_type": "code",
   "execution_count": 11,
   "metadata": {},
   "outputs": [],
   "source": [
    "# Vectorize the text data\n",
    "vectorizer = CountVectorizer()\n",
    "X_train_vec = vectorizer.fit_transform(train_df['Normalized_Text'])\n",
    "X_test_vec = vectorizer.transform(test_df['Normalized_Text'])\n",
    "X_valid_vec = vectorizer.transform(valid_df['Normalized_Text'])"
   ]
  },
  {
   "cell_type": "code",
   "execution_count": 12,
   "metadata": {},
   "outputs": [],
   "source": [
    "# Convert data to PyTorch tensors\n",
    "X_train_tensor = torch.tensor(X_train_vec.toarray(), dtype=torch.float32)\n",
    "X_test_tensor = torch.tensor(X_test_vec.toarray(), dtype=torch.float32)\n",
    "X_valid_tensor = torch.tensor(X_valid_vec.toarray(), dtype=torch.float32)\n"
   ]
  },
  {
   "cell_type": "code",
   "execution_count": 13,
   "metadata": {},
   "outputs": [],
   "source": [
    "# Convert labels to PyTorch tensors\n",
    "y_train_tensor = torch.tensor(train_df['Sentiment_encoded'].values, dtype=torch.long)\n",
    "y_test_tensor = torch.tensor(test_df['Sentiment_encoded'].values, dtype=torch.long)\n",
    "y_valid_tensor = torch.tensor(valid_df['Sentiment_encoded'].values, dtype=torch.long)"
   ]
  },
  {
   "cell_type": "code",
   "execution_count": 14,
   "metadata": {},
   "outputs": [],
   "source": [
    "# Assuming you have a multi-label model, modify the output dimension accordingly\n",
    "output_dim = len(data['Sentiment_encoded'].unique())"
   ]
  },
  {
   "cell_type": "code",
   "execution_count": 15,
   "metadata": {},
   "outputs": [],
   "source": [
    "# Instantiate the model with dropout\n",
    "class MultiLabelModelWithDropout(nn.Module):\n",
    "    def __init__(self, input_dim, output_dim, dropout_rate=0.5):\n",
    "        super(MultiLabelModelWithDropout, self).__init__()\n",
    "        self.fc1 = nn.Linear(input_dim, 256)\n",
    "        self.dropout = nn.Dropout(p=dropout_rate)\n",
    "        self.fc2 = nn.Linear(256, output_dim)\n",
    "\n",
    "    def forward(self, x):\n",
    "        x = F.relu(self.fc1(x))\n",
    "        x = self.dropout(x)\n",
    "        x = self.fc2(x)\n",
    "        return x  # No sigmoid activation here"
   ]
  },
  {
   "cell_type": "code",
   "execution_count": 16,
   "metadata": {},
   "outputs": [],
   "source": [
    "# Instantiate the model with dropout\n",
    "model = MultiLabelModelWithDropout(input_dim=X_train_tensor.shape[1], output_dim=output_dim, dropout_rate=0.5)"
   ]
  },
  {
   "cell_type": "code",
   "execution_count": 17,
   "metadata": {},
   "outputs": [],
   "source": [
    "# Define the loss function and optimizer\n",
    "criterion = nn.CrossEntropyLoss()  # Use CrossEntropyLoss for multi-class classification\n",
    "optimizer = optim.Adam(model.parameters(), lr=0.001)  # Experiment with different learning rates"
   ]
  },
  {
   "cell_type": "code",
   "execution_count": 18,
   "metadata": {},
   "outputs": [
    {
     "name": "stdout",
     "output_type": "stream",
     "text": [
      "Epoch [1/100], Train Loss: 1.6994, Valid Loss: 1.6030\n",
      "Epoch [2/100], Train Loss: 1.6531, Valid Loss: 1.5929\n",
      "Epoch [3/100], Train Loss: 1.6190, Valid Loss: 1.5818\n",
      "Epoch [4/100], Train Loss: 1.5938, Valid Loss: 1.5702\n",
      "Epoch [5/100], Train Loss: 1.5758, Valid Loss: 1.5586\n",
      "Epoch [6/100], Train Loss: 1.5626, Valid Loss: 1.5473\n",
      "Epoch [7/100], Train Loss: 1.5521, Valid Loss: 1.5363\n",
      "Epoch [8/100], Train Loss: 1.5434, Valid Loss: 1.5258\n",
      "Epoch [9/100], Train Loss: 1.5348, Valid Loss: 1.5156\n",
      "Epoch [10/100], Train Loss: 1.5256, Valid Loss: 1.5056\n",
      "Epoch [11/100], Train Loss: 1.5163, Valid Loss: 1.4956\n",
      "Epoch [12/100], Train Loss: 1.5051, Valid Loss: 1.4855\n",
      "Epoch [13/100], Train Loss: 1.4953, Valid Loss: 1.4753\n",
      "Epoch [14/100], Train Loss: 1.4837, Valid Loss: 1.4650\n",
      "Epoch [15/100], Train Loss: 1.4733, Valid Loss: 1.4545\n",
      "Epoch [16/100], Train Loss: 1.4606, Valid Loss: 1.4440\n",
      "Epoch [17/100], Train Loss: 1.4504, Valid Loss: 1.4336\n",
      "Epoch [18/100], Train Loss: 1.4404, Valid Loss: 1.4232\n",
      "Epoch [19/100], Train Loss: 1.4300, Valid Loss: 1.4129\n",
      "Epoch [20/100], Train Loss: 1.4201, Valid Loss: 1.4027\n",
      "Epoch [21/100], Train Loss: 1.4111, Valid Loss: 1.3927\n",
      "Epoch [22/100], Train Loss: 1.4022, Valid Loss: 1.3828\n",
      "Epoch [23/100], Train Loss: 1.3926, Valid Loss: 1.3731\n",
      "Epoch [24/100], Train Loss: 1.3830, Valid Loss: 1.3635\n",
      "Epoch [25/100], Train Loss: 1.3750, Valid Loss: 1.3540\n",
      "Epoch [26/100], Train Loss: 1.3659, Valid Loss: 1.3447\n",
      "Epoch [27/100], Train Loss: 1.3572, Valid Loss: 1.3355\n",
      "Epoch [28/100], Train Loss: 1.3481, Valid Loss: 1.3266\n",
      "Epoch [29/100], Train Loss: 1.3396, Valid Loss: 1.3177\n",
      "Epoch [30/100], Train Loss: 1.3321, Valid Loss: 1.3091\n",
      "Epoch [31/100], Train Loss: 1.3236, Valid Loss: 1.3006\n",
      "Epoch [32/100], Train Loss: 1.3147, Valid Loss: 1.2922\n",
      "Epoch [33/100], Train Loss: 1.3079, Valid Loss: 1.2840\n",
      "Epoch [34/100], Train Loss: 1.3004, Valid Loss: 1.2760\n",
      "Epoch [35/100], Train Loss: 1.2918, Valid Loss: 1.2681\n",
      "Epoch [36/100], Train Loss: 1.2863, Valid Loss: 1.2605\n",
      "Epoch [37/100], Train Loss: 1.2773, Valid Loss: 1.2530\n",
      "Epoch [38/100], Train Loss: 1.2710, Valid Loss: 1.2457\n",
      "Epoch [39/100], Train Loss: 1.2631, Valid Loss: 1.2385\n",
      "Epoch [40/100], Train Loss: 1.2576, Valid Loss: 1.2315\n",
      "Epoch [41/100], Train Loss: 1.2507, Valid Loss: 1.2247\n",
      "Epoch [42/100], Train Loss: 1.2443, Valid Loss: 1.2181\n",
      "Epoch [43/100], Train Loss: 1.2381, Valid Loss: 1.2116\n",
      "Epoch [44/100], Train Loss: 1.2317, Valid Loss: 1.2052\n",
      "Epoch [45/100], Train Loss: 1.2254, Valid Loss: 1.1991\n",
      "Epoch [46/100], Train Loss: 1.2197, Valid Loss: 1.1930\n",
      "Epoch [47/100], Train Loss: 1.2139, Valid Loss: 1.1872\n",
      "Epoch [48/100], Train Loss: 1.2084, Valid Loss: 1.1815\n",
      "Epoch [49/100], Train Loss: 1.2035, Valid Loss: 1.1759\n",
      "Epoch [50/100], Train Loss: 1.1968, Valid Loss: 1.1705\n",
      "Epoch [51/100], Train Loss: 1.1917, Valid Loss: 1.1653\n",
      "Epoch [52/100], Train Loss: 1.1885, Valid Loss: 1.1602\n",
      "Epoch [53/100], Train Loss: 1.1838, Valid Loss: 1.1553\n",
      "Epoch [54/100], Train Loss: 1.1795, Valid Loss: 1.1505\n",
      "Epoch [55/100], Train Loss: 1.1730, Valid Loss: 1.1459\n",
      "Epoch [56/100], Train Loss: 1.1681, Valid Loss: 1.1415\n",
      "Epoch [57/100], Train Loss: 1.1656, Valid Loss: 1.1371\n",
      "Epoch [58/100], Train Loss: 1.1581, Valid Loss: 1.1329\n",
      "Epoch [59/100], Train Loss: 1.1560, Valid Loss: 1.1288\n",
      "Epoch [60/100], Train Loss: 1.1504, Valid Loss: 1.1249\n",
      "Epoch [61/100], Train Loss: 1.1463, Valid Loss: 1.1210\n",
      "Epoch [62/100], Train Loss: 1.1421, Valid Loss: 1.1172\n",
      "Epoch [63/100], Train Loss: 1.1390, Valid Loss: 1.1136\n",
      "Epoch [64/100], Train Loss: 1.1353, Valid Loss: 1.1101\n",
      "Epoch [65/100], Train Loss: 1.1295, Valid Loss: 1.1067\n",
      "Epoch [66/100], Train Loss: 1.1284, Valid Loss: 1.1035\n",
      "Epoch [67/100], Train Loss: 1.1251, Valid Loss: 1.1003\n",
      "Epoch [68/100], Train Loss: 1.1202, Valid Loss: 1.0972\n",
      "Epoch [69/100], Train Loss: 1.1174, Valid Loss: 1.0942\n",
      "Epoch [70/100], Train Loss: 1.1135, Valid Loss: 1.0912\n",
      "Epoch [71/100], Train Loss: 1.1099, Valid Loss: 1.0883\n",
      "Epoch [72/100], Train Loss: 1.1066, Valid Loss: 1.0855\n",
      "Epoch [73/100], Train Loss: 1.1032, Valid Loss: 1.0828\n",
      "Epoch [74/100], Train Loss: 1.1011, Valid Loss: 1.0802\n",
      "Epoch [75/100], Train Loss: 1.0978, Valid Loss: 1.0776\n",
      "Epoch [76/100], Train Loss: 1.0956, Valid Loss: 1.0751\n",
      "Epoch [77/100], Train Loss: 1.0918, Valid Loss: 1.0727\n",
      "Epoch [78/100], Train Loss: 1.0883, Valid Loss: 1.0704\n",
      "Epoch [79/100], Train Loss: 1.0855, Valid Loss: 1.0682\n",
      "Epoch [80/100], Train Loss: 1.0827, Valid Loss: 1.0660\n",
      "Epoch [81/100], Train Loss: 1.0791, Valid Loss: 1.0638\n",
      "Epoch [82/100], Train Loss: 1.0774, Valid Loss: 1.0618\n",
      "Epoch [83/100], Train Loss: 1.0739, Valid Loss: 1.0598\n",
      "Epoch [84/100], Train Loss: 1.0722, Valid Loss: 1.0578\n",
      "Epoch [85/100], Train Loss: 1.0691, Valid Loss: 1.0560\n",
      "Epoch [86/100], Train Loss: 1.0681, Valid Loss: 1.0541\n",
      "Epoch [87/100], Train Loss: 1.0637, Valid Loss: 1.0524\n",
      "Epoch [88/100], Train Loss: 1.0626, Valid Loss: 1.0507\n",
      "Epoch [89/100], Train Loss: 1.0585, Valid Loss: 1.0491\n",
      "Epoch [90/100], Train Loss: 1.0579, Valid Loss: 1.0474\n",
      "Epoch [91/100], Train Loss: 1.0559, Valid Loss: 1.0458\n",
      "Epoch [92/100], Train Loss: 1.0538, Valid Loss: 1.0442\n",
      "Epoch [93/100], Train Loss: 1.0496, Valid Loss: 1.0427\n",
      "Epoch [94/100], Train Loss: 1.0478, Valid Loss: 1.0413\n",
      "Epoch [95/100], Train Loss: 1.0465, Valid Loss: 1.0399\n",
      "Epoch [96/100], Train Loss: 1.0440, Valid Loss: 1.0385\n",
      "Epoch [97/100], Train Loss: 1.0430, Valid Loss: 1.0372\n",
      "Epoch [98/100], Train Loss: 1.0403, Valid Loss: 1.0359\n",
      "Epoch [99/100], Train Loss: 1.0381, Valid Loss: 1.0347\n",
      "Epoch [100/100], Train Loss: 1.0351, Valid Loss: 1.0335\n"
     ]
    }
   ],
   "source": [
    "# Training loop with dropout and validation\n",
    "num_epochs = 100\n",
    "train_losses = []\n",
    "valid_losses = []\n",
    "\n",
    "for epoch in range(num_epochs):\n",
    "    # Training\n",
    "    model.train()\n",
    "    optimizer.zero_grad()\n",
    "    predictions = model(X_train_tensor)\n",
    "    loss = criterion(predictions, y_train_tensor)\n",
    "    \n",
    "    # Add L2 regularization\n",
    "    l2_reg = 0.001\n",
    "    for param in model.parameters():\n",
    "        loss += l2_reg * torch.sum(param.pow(2))\n",
    "    \n",
    "    loss.backward()\n",
    "    optimizer.step()\n",
    "    \n",
    "    # Append the training loss for visualization\n",
    "    train_losses.append(loss.item())\n",
    "\n",
    "    # Validation\n",
    "    model.eval()\n",
    "    with torch.no_grad():\n",
    "        predictions_valid = model(X_valid_tensor)\n",
    "        loss_valid = criterion(predictions_valid, y_valid_tensor)\n",
    "        valid_losses.append(loss_valid.item())\n",
    "\n",
    "    # Print and visualize the training and validation losses\n",
    "    print(f\"Epoch [{epoch+1}/{num_epochs}], Train Loss: {loss.item():.4f}, Valid Loss: {loss_valid.item():.4f}\")\n"
   ]
  },
  {
   "cell_type": "code",
   "execution_count": 19,
   "metadata": {},
   "outputs": [
    {
     "data": {
      "image/png": "[encoded data removed]",
      "text/plain": [
       "<Figure size 640x480 with 1 Axes>"
      ]
     },
     "metadata": {},
     "output_type": "display_data"
    }
   ],
   "source": [
    "# Plot the training and validation losses\n",
    "plt.plot(train_losses, label='Training Loss')\n",
    "plt.plot(valid_losses, label='Validation Loss')\n",
    "plt.xlabel('Epoch')\n",
    "plt.ylabel('Loss')\n",
    "plt.title('Training and Validation Loss Over Time')\n",
    "plt.legend()\n",
    "plt.show()"
   ]
  },
  {
   "cell_type": "code",
   "execution_count": 20,
   "metadata": {},
   "outputs": [],
   "source": [
    "# Evaluation loop and metric calculation on the test set\n",
    "model.eval()\n",
    "with torch.no_grad():\n",
    "    predictions_test = model(X_test_tensor)\n",
    "    probabilities_test = F.softmax(predictions_test, dim=1)\n",
    "    _, predicted_labels_test = torch.max(probabilities_test, 1)\n"
   ]
  },
  {
   "cell_type": "code",
   "execution_count": 21,
   "metadata": {},
   "outputs": [
    {
     "name": "stdout",
     "output_type": "stream",
     "text": [
      "Test ROC AUC: 0.8611, Test F1 Score: 0.5940\n"
     ]
    }
   ],
   "source": [
    "# Calculate metrics on the test set\n",
    "roc_auc_test = roc_auc_score(y_test_tensor, probabilities_test, multi_class='ovr', average='macro')\n",
    "f1_test = f1_score(y_test_tensor, predicted_labels_test, average='macro')\n",
    "\n",
    "print(f\"Test ROC AUC: {roc_auc_test:.4f}, Test F1 Score: {f1_test:.4f}\")"
   ]
  }
 ],
 "metadata": {
  "kernelspec": {
   "display_name": ".venv",
   "language": "python",
   "name": "python3"
  },
  "language_info": {
   "codemirror_mode": {
    "name": "ipython",
    "version": 3
   },
   "file_extension": ".py",
   "mimetype": "text/x-python",
   "name": "python",
   "nbconvert_exporter": "python",
   "pygments_lexer": "ipython3",
   "version": "3.11.3"
  }
 },
 "nbformat": 4,
 "nbformat_minor": 2
}
